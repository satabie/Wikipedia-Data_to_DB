{
 "cells": [
  {
   "cell_type": "code",
   "execution_count": 1,
   "metadata": {},
   "outputs": [
    {
     "ename": "FileNotFoundError",
     "evalue": "[Errno 2] No such file or directory: 'test.txt'",
     "output_type": "error",
     "traceback": [
      "\u001b[0;31m---------------------------------------------------------------------------\u001b[0m",
      "\u001b[0;31mFileNotFoundError\u001b[0m                         Traceback (most recent call last)",
      "Cell \u001b[0;32mIn[1], line 1\u001b[0m\n\u001b[0;32m----> 1\u001b[0m r \u001b[39m=\u001b[39m \u001b[39mopen\u001b[39;49m(\u001b[39m\"\u001b[39;49m\u001b[39mtest.txt\u001b[39;49m\u001b[39m\"\u001b[39;49m, \u001b[39m\"\u001b[39;49m\u001b[39mr\u001b[39;49m\u001b[39m\"\u001b[39;49m, encoding\u001b[39m=\u001b[39;49m\u001b[39m\"\u001b[39;49m\u001b[39mutf-8\u001b[39;49m\u001b[39m\"\u001b[39;49m, errors\u001b[39m=\u001b[39;49m\u001b[39m\"\u001b[39;49m\u001b[39mignore\u001b[39;49m\u001b[39m\"\u001b[39;49m)\n",
      "File \u001b[0;32m~/python-dev/wikipedia-Data_to_DB/.venv/lib/python3.10/site-packages/IPython/core/interactiveshell.py:282\u001b[0m, in \u001b[0;36m_modified_open\u001b[0;34m(file, *args, **kwargs)\u001b[0m\n\u001b[1;32m    275\u001b[0m \u001b[39mif\u001b[39;00m file \u001b[39min\u001b[39;00m {\u001b[39m0\u001b[39m, \u001b[39m1\u001b[39m, \u001b[39m2\u001b[39m}:\n\u001b[1;32m    276\u001b[0m     \u001b[39mraise\u001b[39;00m \u001b[39mValueError\u001b[39;00m(\n\u001b[1;32m    277\u001b[0m         \u001b[39mf\u001b[39m\u001b[39m\"\u001b[39m\u001b[39mIPython won\u001b[39m\u001b[39m'\u001b[39m\u001b[39mt let you open fd=\u001b[39m\u001b[39m{\u001b[39;00mfile\u001b[39m}\u001b[39;00m\u001b[39m by default \u001b[39m\u001b[39m\"\u001b[39m\n\u001b[1;32m    278\u001b[0m         \u001b[39m\"\u001b[39m\u001b[39mas it is likely to crash IPython. If you know what you are doing, \u001b[39m\u001b[39m\"\u001b[39m\n\u001b[1;32m    279\u001b[0m         \u001b[39m\"\u001b[39m\u001b[39myou can use builtins\u001b[39m\u001b[39m'\u001b[39m\u001b[39m open.\u001b[39m\u001b[39m\"\u001b[39m\n\u001b[1;32m    280\u001b[0m     )\n\u001b[0;32m--> 282\u001b[0m \u001b[39mreturn\u001b[39;00m io_open(file, \u001b[39m*\u001b[39;49margs, \u001b[39m*\u001b[39;49m\u001b[39m*\u001b[39;49mkwargs)\n",
      "\u001b[0;31mFileNotFoundError\u001b[0m: [Errno 2] No such file or directory: 'test.txt'"
     ]
    }
   ],
   "source": [
    "r = open(\"test.txt\", \"r\", encoding=\"utf-8\", errors=\"ignore\")"
   ]
  },
  {
   "cell_type": "code",
   "execution_count": 39,
   "metadata": {},
   "outputs": [],
   "source": [
    "content = r.readlines()"
   ]
  },
  {
   "cell_type": "code",
   "execution_count": 43,
   "metadata": {},
   "outputs": [
    {
     "name": "stdout",
     "output_type": "stream",
     "text": [
      "['{{FA/BeenOnMainPage|', 'Ba Cụt]]}}\\n']\n",
      "['{{FA/BeenOnMainPage|', 'Peter Badcoe]]}}\\n']\n",
      "['{{FA/BeenOnMainPage|', 'Ivan Bagramyan]]}}\\n']\n",
      "['{{FA/BeenOnMainPage|', 'Thomas Baker (aviator)]]}}\\n']\n",
      "['{{FA/BeenOnMainPage|', 'Albert Ball]]}}\\n']\n",
      "['{{FA/BeenOnMainPage|', 'John Balmer]]}}\\n']\n",
      "['{{FA/BeenOnMainPage|', 'Nicky Barr]]}}\\n']\n",
      "['{{FA/BeenOnMainPage|', 'Cyril Bassett]]}}\\n']\n",
      "['{{FA/BeenOnMainPage|', 'Prince Louis of Battenberg]]}}\\n']\n",
      "['{{FA/BeenOnMainPage|', 'Otto Becher]]}}\\n']\n",
      "['{{FA/BeenOnMainPage|', 'Mary Bell (aviator)]]}}\\n']\n",
      "['{{FA/BeenOnMainPage|', 'Gottlob Berger]]}}\\n']\n",
      "['{{FA/BeenOnMainPage|', 'Frank Berryman]]}}\\n']\n",
      "['{{FA/BeenOnMainPage|', 'Arthur Blackburn]]}}\\n']\n",
      "['', 'Frank Bladin]]\\n']\n",
      "['{{FA/BeenOnMainPage|', 'Thomas Blamey]]}}\\n']\n",
      "['{{FA/BeenOnMainPage|', 'John F. Bolt]]}}\\n']\n",
      "['{{FA/BeenOnMainPage|', 'William Bostock]]}}\\n']\n",
      "['{{FA/BeenOnMainPage|', 'Juan Davis Bradburn]]}}\\n']\n",
      "['{{FA/BeenOnMainPage|', 'William Brill (RAAF officer)|William Brill]]}}\\n']\n",
      "['', 'Donald Forrester Brown]]']\n"
     ]
    }
   ],
   "source": [
    "for line in content:\n",
    "    if line[0:19] == \"{{FA/BeenOnMainPage\" or line[0:2] == \"[[\":\n",
    "        line = line.split(\"[[\")\n",
    "        print(line)\n",
    "        #line = line[1].split(\"]]\")\n",
    "        #print(line)"
   ]
  },
  {
   "cell_type": "code",
   "execution_count": null,
   "metadata": {},
   "outputs": [],
   "source": []
  }
 ],
 "metadata": {
  "kernelspec": {
   "display_name": "Python 3.10.0 ('.venv': venv)",
   "language": "python",
   "name": "python3"
  },
  "language_info": {
   "codemirror_mode": {
    "name": "ipython",
    "version": 3
   },
   "file_extension": ".py",
   "mimetype": "text/x-python",
   "name": "python",
   "nbconvert_exporter": "python",
   "pygments_lexer": "ipython3",
   "version": "3.10.0"
  },
  "orig_nbformat": 4,
  "vscode": {
   "interpreter": {
    "hash": "08aea60159bf520025353fa73b67835db46a7850aa7ed99a4940d38bc889f64d"
   }
  }
 },
 "nbformat": 4,
 "nbformat_minor": 2
}
