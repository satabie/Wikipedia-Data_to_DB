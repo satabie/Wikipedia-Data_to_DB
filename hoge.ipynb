{
 "cells": [
  {
   "cell_type": "code",
   "execution_count": 38,
   "metadata": {},
   "outputs": [],
   "source": [
    "\n",
    "r = open(\"test.txt\", \"r\", encoding=\"utf-8\", errors=\"ignore\")"
   ]
  },
  {
   "cell_type": "code",
   "execution_count": 39,
   "metadata": {},
   "outputs": [],
   "source": [
    "content = r.readlines()"
   ]
  },
  {
   "cell_type": "code",
   "execution_count": 43,
   "metadata": {},
   "outputs": [
    {
     "name": "stdout",
     "output_type": "stream",
     "text": [
      "['{{FA/BeenOnMainPage|', 'Ba Cụt]]}}\\n']\n",
      "['{{FA/BeenOnMainPage|', 'Peter Badcoe]]}}\\n']\n",
      "['{{FA/BeenOnMainPage|', 'Ivan Bagramyan]]}}\\n']\n",
      "['{{FA/BeenOnMainPage|', 'Thomas Baker (aviator)]]}}\\n']\n",
      "['{{FA/BeenOnMainPage|', 'Albert Ball]]}}\\n']\n",
      "['{{FA/BeenOnMainPage|', 'John Balmer]]}}\\n']\n",
      "['{{FA/BeenOnMainPage|', 'Nicky Barr]]}}\\n']\n",
      "['{{FA/BeenOnMainPage|', 'Cyril Bassett]]}}\\n']\n",
      "['{{FA/BeenOnMainPage|', 'Prince Louis of Battenberg]]}}\\n']\n",
      "['{{FA/BeenOnMainPage|', 'Otto Becher]]}}\\n']\n",
      "['{{FA/BeenOnMainPage|', 'Mary Bell (aviator)]]}}\\n']\n",
      "['{{FA/BeenOnMainPage|', 'Gottlob Berger]]}}\\n']\n",
      "['{{FA/BeenOnMainPage|', 'Frank Berryman]]}}\\n']\n",
      "['{{FA/BeenOnMainPage|', 'Arthur Blackburn]]}}\\n']\n",
      "['', 'Frank Bladin]]\\n']\n",
      "['{{FA/BeenOnMainPage|', 'Thomas Blamey]]}}\\n']\n",
      "['{{FA/BeenOnMainPage|', 'John F. Bolt]]}}\\n']\n",
      "['{{FA/BeenOnMainPage|', 'William Bostock]]}}\\n']\n",
      "['{{FA/BeenOnMainPage|', 'Juan Davis Bradburn]]}}\\n']\n",
      "['{{FA/BeenOnMainPage|', 'William Brill (RAAF officer)|William Brill]]}}\\n']\n",
      "['', 'Donald Forrester Brown]]']\n"
     ]
    }
   ],
   "source": [
    "for line in content:\n",
    "    if line[0:19] == \"{{FA/BeenOnMainPage\" or line[0:2] == \"[[\":\n",
    "        line = line.split(\"[[\")\n",
    "        print(line)\n",
    "        #line = line[1].split(\"]]\")\n",
    "        #print(line)"
   ]
  },
  {
   "cell_type": "code",
   "execution_count": null,
   "metadata": {},
   "outputs": [],
   "source": []
  }
 ],
 "metadata": {
  "kernelspec": {
   "display_name": "Python 3.10.0 ('.venv': venv)",
   "language": "python",
   "name": "python3"
  },
  "language_info": {
   "codemirror_mode": {
    "name": "ipython",
    "version": 3
   },
   "file_extension": ".py",
   "mimetype": "text/x-python",
   "name": "python",
   "nbconvert_exporter": "python",
   "pygments_lexer": "ipython3",
   "version": "3.10.0"
  },
  "orig_nbformat": 4,
  "vscode": {
   "interpreter": {
    "hash": "08aea60159bf520025353fa73b67835db46a7850aa7ed99a4940d38bc889f64d"
   }
  }
 },
 "nbformat": 4,
 "nbformat_minor": 2
}
